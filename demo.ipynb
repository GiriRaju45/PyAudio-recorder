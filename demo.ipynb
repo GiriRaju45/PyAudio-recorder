{
 "cells": [
  {
   "cell_type": "code",
   "execution_count": 1,
   "metadata": {},
   "outputs": [],
   "source": [
    "import os\n",
    "import pandas as pd"
   ]
  },
  {
   "cell_type": "code",
   "execution_count": 2,
   "metadata": {},
   "outputs": [],
   "source": [
    "df = pd.read_csv(r\"C:\\Users\\richa\\Downloads\\TTS_DC\\tkinter\\demo_correct.csv\")"
   ]
  },
  {
   "cell_type": "code",
   "execution_count": 3,
   "metadata": {},
   "outputs": [
    {
     "data": {
      "text/plain": [
       "5"
      ]
     },
     "execution_count": 3,
     "metadata": {},
     "output_type": "execute_result"
    }
   ],
   "source": [
    "len(df)"
   ]
  },
  {
   "cell_type": "code",
   "execution_count": 4,
   "metadata": {},
   "outputs": [
    {
     "data": {
      "text/html": [
       "<div>\n",
       "<style scoped>\n",
       "    .dataframe tbody tr th:only-of-type {\n",
       "        vertical-align: middle;\n",
       "    }\n",
       "\n",
       "    .dataframe tbody tr th {\n",
       "        vertical-align: top;\n",
       "    }\n",
       "\n",
       "    .dataframe thead th {\n",
       "        text-align: right;\n",
       "    }\n",
       "</style>\n",
       "<table border=\"1\" class=\"dataframe\">\n",
       "  <thead>\n",
       "    <tr style=\"text-align: right;\">\n",
       "      <th></th>\n",
       "      <th>ID</th>\n",
       "      <th>Sentence</th>\n",
       "      <th>English</th>\n",
       "      <th>speaker</th>\n",
       "      <th>language</th>\n",
       "      <th>category</th>\n",
       "      <th>style</th>\n",
       "    </tr>\n",
       "  </thead>\n",
       "  <tbody>\n",
       "    <tr>\n",
       "      <th>0</th>\n",
       "      <td>DEMO_M_ANGER_05543</td>\n",
       "      <td>মনে তো হচ্ছে সিইও-টা জালিয়াৎ ছিল আর প্রচুর টাক...</td>\n",
       "      <td>It looks like the CEO was a crook and he absco...</td>\n",
       "      <td>male</td>\n",
       "      <td>Demo</td>\n",
       "      <td>EXP</td>\n",
       "      <td>anger</td>\n",
       "    </tr>\n",
       "    <tr>\n",
       "      <th>1</th>\n",
       "      <td>DEMO_M_ANGER_05544</td>\n",
       "      <td>কালো বাজারে তিনগুণ বেশি দাম দিয়ে টিকিট কেটেছি ...</td>\n",
       "      <td>I am so annoyed that I bought these tickets in...</td>\n",
       "      <td>male</td>\n",
       "      <td>Demo</td>\n",
       "      <td>EXP</td>\n",
       "      <td>anger</td>\n",
       "    </tr>\n",
       "    <tr>\n",
       "      <th>2</th>\n",
       "      <td>DEMO_M_ANGER_05545</td>\n",
       "      <td>শান্ত হও, বাবা। এরকম ভাবে কেন বলছ? তোমার কি মা...</td>\n",
       "      <td>Pull it together, Dad. You shouldn't be saying...</td>\n",
       "      <td>male</td>\n",
       "      <td>Demo</td>\n",
       "      <td>EXP</td>\n",
       "      <td>anger</td>\n",
       "    </tr>\n",
       "    <tr>\n",
       "      <th>3</th>\n",
       "      <td>DEMO_M_ANGER_05546</td>\n",
       "      <td>এই নিয়ে আমি দশবার এলাম আপনাদের কাছে। আবারও আমা...</td>\n",
       "      <td>This is the tenth time I am coming down to you...</td>\n",
       "      <td>male</td>\n",
       "      <td>Demo</td>\n",
       "      <td>EXP</td>\n",
       "      <td>anger</td>\n",
       "    </tr>\n",
       "    <tr>\n",
       "      <th>4</th>\n",
       "      <td>DEMO_M_ANGER_05547</td>\n",
       "      <td>তুই কি ঠাট্টা করছিস? ছবিটার অ্যাডাপটেশনটায় গল্...</td>\n",
       "      <td>Are you kidding me? They completely butchered ...</td>\n",
       "      <td>male</td>\n",
       "      <td>Demo</td>\n",
       "      <td>EXP</td>\n",
       "      <td>anger</td>\n",
       "    </tr>\n",
       "  </tbody>\n",
       "</table>\n",
       "</div>"
      ],
      "text/plain": [
       "                   ID                                           Sentence  \\\n",
       "0  DEMO_M_ANGER_05543  মনে তো হচ্ছে সিইও-টা জালিয়াৎ ছিল আর প্রচুর টাক...   \n",
       "1  DEMO_M_ANGER_05544  কালো বাজারে তিনগুণ বেশি দাম দিয়ে টিকিট কেটেছি ...   \n",
       "2  DEMO_M_ANGER_05545  শান্ত হও, বাবা। এরকম ভাবে কেন বলছ? তোমার কি মা...   \n",
       "3  DEMO_M_ANGER_05546  এই নিয়ে আমি দশবার এলাম আপনাদের কাছে। আবারও আমা...   \n",
       "4  DEMO_M_ANGER_05547  তুই কি ঠাট্টা করছিস? ছবিটার অ্যাডাপটেশনটায় গল্...   \n",
       "\n",
       "                                             English speaker language  \\\n",
       "0  It looks like the CEO was a crook and he absco...    male     Demo   \n",
       "1  I am so annoyed that I bought these tickets in...    male     Demo   \n",
       "2  Pull it together, Dad. You shouldn't be saying...    male     Demo   \n",
       "3  This is the tenth time I am coming down to you...    male     Demo   \n",
       "4  Are you kidding me? They completely butchered ...    male     Demo   \n",
       "\n",
       "  category  style  \n",
       "0      EXP  anger  \n",
       "1      EXP  anger  \n",
       "2      EXP  anger  \n",
       "3      EXP  anger  \n",
       "4      EXP  anger  "
      ]
     },
     "execution_count": 4,
     "metadata": {},
     "output_type": "execute_result"
    }
   ],
   "source": [
    "df"
   ]
  },
  {
   "cell_type": "code",
   "execution_count": 16,
   "metadata": {},
   "outputs": [],
   "source": [
    "row = df.iloc[1]"
   ]
  },
  {
   "cell_type": "code",
   "execution_count": 17,
   "metadata": {},
   "outputs": [
    {
     "data": {
      "text/plain": [
       "ID                                         DEMO_M_ANGER_05544\n",
       "Sentence    কালো বাজারে তিনগুণ বেশি দাম দিয়ে টিকিট কেটেছি ...\n",
       "English     I am so annoyed that I bought these tickets in...\n",
       "speaker                                                  male\n",
       "language                                                 Demo\n",
       "category                                                  EXP\n",
       "style                                                   anger\n",
       "Name: 1, dtype: object"
      ]
     },
     "execution_count": 17,
     "metadata": {},
     "output_type": "execute_result"
    }
   ],
   "source": [
    "row"
   ]
  },
  {
   "cell_type": "code",
   "execution_count": 24,
   "metadata": {},
   "outputs": [
    {
     "data": {
      "text/plain": [
       "Index([4], dtype='int64')"
      ]
     },
     "execution_count": 24,
     "metadata": {},
     "output_type": "execute_result"
    }
   ],
   "source": [
    "df.index[df['ID']=='DEMO_M_ANGER_05547']"
   ]
  },
  {
   "cell_type": "code",
   "execution_count": null,
   "metadata": {},
   "outputs": [],
   "source": [
    "import pysndfx\n",
    "import sounddevice as sd\n",
    "\n",
    "# Create an audio effects chain\n",
    "effects = pysndfx.AudioEffectsChain()\n",
    "\n",
    "# Add an equalizer to the chain\n",
    "eq = pysndfx.Equalizer(frequency=1000, gain=10)\n",
    "effects.add_effect(eq)\n",
    "\n",
    "# Open the audio file\n",
    "stream = sd.InputStream(samplerate=44100, channels=2)\n",
    "\n",
    "# Start streaming the audio\n",
    "while True:\n",
    "    data = stream.read(1024)\n",
    "\n",
    "    # Apply the effects to the audio data\n",
    "    processed_data = effects.process(data)\n",
    "\n",
    "    # Play the processed audio data\n",
    "    sd.play(processed_data, samplerate=44100, channels=2)"
   ]
  },
  {
   "cell_type": "code",
   "execution_count": 1,
   "metadata": {},
   "outputs": [
    {
     "ename": "AttributeError",
     "evalue": "module 'pysndfx' has no attribute 'Equalizer'",
     "output_type": "error",
     "traceback": [
      "\u001b[1;31m---------------------------------------------------------------------------\u001b[0m",
      "\u001b[1;31mAttributeError\u001b[0m                            Traceback (most recent call last)",
      "Cell \u001b[1;32mIn[1], line 8\u001b[0m\n\u001b[0;32m      5\u001b[0m effects \u001b[38;5;241m=\u001b[39m pysndfx\u001b[38;5;241m.\u001b[39mAudioEffectsChain()\n\u001b[0;32m      7\u001b[0m \u001b[38;5;66;03m# Add an equalizer to the chain\u001b[39;00m\n\u001b[1;32m----> 8\u001b[0m eq \u001b[38;5;241m=\u001b[39m \u001b[43mpysndfx\u001b[49m\u001b[38;5;241;43m.\u001b[39;49m\u001b[43mEqualizer\u001b[49m(frequency\u001b[38;5;241m=\u001b[39m\u001b[38;5;241m1000\u001b[39m, gain\u001b[38;5;241m=\u001b[39m\u001b[38;5;241m10\u001b[39m)\n\u001b[0;32m      9\u001b[0m effects\u001b[38;5;241m.\u001b[39madd_effect(eq)\n\u001b[0;32m     11\u001b[0m \u001b[38;5;66;03m# Open the audio file\u001b[39;00m\n",
      "\u001b[1;31mAttributeError\u001b[0m: module 'pysndfx' has no attribute 'Equalizer'"
     ]
    },
    {
     "ename": "",
     "evalue": "",
     "output_type": "error",
     "traceback": [
      "\u001b[1;31mThe Kernel crashed while executing code in the current cell or a previous cell. \n",
      "\u001b[1;31mPlease review the code in the cell(s) to identify a possible cause of the failure. \n",
      "\u001b[1;31mClick <a href='https://aka.ms/vscodeJupyterKernelCrash'>here</a> for more info. \n",
      "\u001b[1;31mView Jupyter <a href='command:jupyter.viewOutput'>log</a> for further details."
     ]
    }
   ],
   "source": [
    "import pysndfx\n",
    "import sounddevice as sd\n",
    "\n",
    "# Create an audio effects chain\n",
    "effects = pysndfx.AudioEffectsChain()\n",
    "\n",
    "# Add an equalizer to the chain\n",
    "eq = pysndfx.Equalizer(frequency=1000, gain=10)\n",
    "effects.add_effect(eq)\n",
    "\n",
    "# Open the audio file\n",
    "stream = sd.InputStream(samplerate=44100, channels=2, filename=r\"C:\\Users\\richa\\Downloads\\TTS_DC\\bodo-female-fear\\BRX_F_FEAR_00272.wav\")\n",
    "\n",
    "# Start streaming the audio\n",
    "while True:\n",
    "    data = stream.read(1024)\n",
    "\n",
    "    # Apply the effects to the audio data\n",
    "    processed_data = effects.process(data)\n",
    "\n",
    "    # Play the processed audio data\n",
    "    sd.play(processed_data, samplerate=44100, channels=2)"
   ]
  },
  {
   "cell_type": "code",
   "execution_count": null,
   "metadata": {},
   "outputs": [],
   "source": []
  }
 ],
 "metadata": {
  "kernelspec": {
   "display_name": "richie",
   "language": "python",
   "name": "python3"
  },
  "language_info": {
   "codemirror_mode": {
    "name": "ipython",
    "version": 3
   },
   "file_extension": ".py",
   "mimetype": "text/x-python",
   "name": "python",
   "nbconvert_exporter": "python",
   "pygments_lexer": "ipython3",
   "version": "3.12.2"
  }
 },
 "nbformat": 4,
 "nbformat_minor": 2
}
